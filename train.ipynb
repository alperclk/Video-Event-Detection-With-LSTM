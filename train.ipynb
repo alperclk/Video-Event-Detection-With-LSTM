{
 "cells": [
  {
   "cell_type": "code",
   "execution_count": 2,
   "metadata": {},
   "outputs": [
    {
     "name": "stdout",
     "output_type": "stream",
     "text": [
      "(1260, 224, 224, 3)\n",
      "(1260, 2)\n"
     ]
    }
   ],
   "source": [
    "girisverisi=np.load(\"63npy.npy\")\n",
    "cikisverisi=np.load(\"63npycikis.npy\")\n",
    "print(girisverisi.shape)\n",
    "print(cikisverisi.shape)\n"
   ]
  },
  {
   "cell_type": "code",
   "execution_count": 3,
   "metadata": {},
   "outputs": [
    {
     "name": "stdout",
     "output_type": "stream",
     "text": [
      "(6, 150528, 63)\n",
      "(6, 2)\n"
     ]
    }
   ],
   "source": [
    "split63=girisverisi[0:(63*3)]\n",
    "split63=np.append(split63,girisverisi[(63*10):(63*13)])\n",
    "\n",
    "split63=np.reshape(split63,(6,224*224*3,63))\n",
    "\n",
    "yenisplit=np.array([[1,0],[1,0],[1,0],[0,1],[0,1],[0,1]])\n",
    "\n",
    "\n",
    "print(split63.shape)\n",
    "print(yenisplit.shape)\n"
   ]
  },
  {
   "cell_type": "code",
   "execution_count": 4,
   "metadata": {},
   "outputs": [
    {
     "name": "stdout",
     "output_type": "stream",
     "text": [
      "(132765696,)\n",
      "(14, 2)\n",
      "(14, 150528, 63)\n"
     ]
    }
   ],
   "source": [
    "trainX=girisverisi[(63*3):(63*10)]\n",
    "trainX=np.append(trainX,girisverisi[(63*13):(63*20)])\n",
    "\n",
    "\n",
    "print(trainX.shape)\n",
    "trainY=np.array([[1,0],[1,0],[1,0],[1,0],[1,0],[1,0],[1,0],[0,1],[0,1],[0,1],[0,1],[0,1],[0,1],[0,1]])\n",
    "print(trainY.shape)\n",
    "\n",
    "trainX = trainX.reshape(14,224*224*3,63)\n",
    "print(trainX.shape)\n"
   ]
  },
  {
   "cell_type": "code",
   "execution_count": 5,
   "metadata": {},
   "outputs": [],
   "source": [
    "from numpy import array\n",
    "from keras.models import Sequential\n",
    "from keras.layers import LSTM\n",
    "from keras.layers import Dense\n",
    "from keras.layers import Flatten\n",
    "from keras.layers import ConvLSTM2D"
   ]
  },
  {
   "cell_type": "code",
   "execution_count": 6,
   "metadata": {},
   "outputs": [
    {
     "name": "stdout",
     "output_type": "stream",
     "text": [
      "(14, 150528, 63)\n",
      "(14, 2)\n",
      "(6, 150528, 63)\n",
      "(6, 2)\n"
     ]
    }
   ],
   "source": [
    "from keras.layers.convolutional import Convolution2D,MaxPooling2D\n",
    "from keras.layers import Activation,Flatten,Dense,Dropout\n",
    "\n",
    "\n",
    "print(trainX.shape)\n",
    "print(trainY.shape)\n",
    "print(split63.shape)\n",
    "print(yenisplit.shape)"
   ]
  },
  {
   "cell_type": "code",
   "execution_count": 7,
   "metadata": {},
   "outputs": [
    {
     "name": "stdout",
     "output_type": "stream",
     "text": [
      "Model: \"sequential_1\"\n",
      "_________________________________________________________________\n",
      "Layer (type)                 Output Shape              Param #   \n",
      "=================================================================\n",
      "lstm_1 (LSTM)                (None, 150528, 64)        32768     \n",
      "_________________________________________________________________\n",
      "dropout_1 (Dropout)          (None, 150528, 64)        0         \n",
      "_________________________________________________________________\n",
      "lstm_2 (LSTM)                (None, 63)                32256     \n",
      "_________________________________________________________________\n",
      "dropout_2 (Dropout)          (None, 63)                0         \n",
      "_________________________________________________________________\n",
      "dense_1 (Dense)              (None, 63)                4032      \n",
      "_________________________________________________________________\n",
      "dense_2 (Dense)              (None, 2)                 128       \n",
      "=================================================================\n",
      "Total params: 69,184\n",
      "Trainable params: 69,184\n",
      "Non-trainable params: 0\n",
      "_________________________________________________________________\n",
      "WARNING:tensorflow:From C:\\Users\\FURKAN\\anaconda3\\lib\\site-packages\\keras\\backend\\tensorflow_backend.py:422: The name tf.global_variables is deprecated. Please use tf.compat.v1.global_variables instead.\n",
      "\n",
      "Train on 14 samples, validate on 6 samples\n",
      "Epoch 1/5\n",
      "14/14 [==============================] - 1642s 117s/step - loss: 0.5523 - accuracy: 0.7857 - val_loss: 0.2214 - val_accuracy: 1.0000\n",
      "Epoch 2/5\n",
      "14/14 [==============================] - 2290s 164s/step - loss: 0.3052 - accuracy: 0.8571 - val_loss: 0.0753 - val_accuracy: 1.0000\n",
      "Epoch 3/5\n",
      "14/14 [==============================] - 3538s 253s/step - loss: 0.1730 - accuracy: 0.8571 - val_loss: 0.0533 - val_accuracy: 1.0000\n",
      "Epoch 4/5\n",
      "14/14 [==============================] - 3470s 248s/step - loss: 0.2318 - accuracy: 0.9286 - val_loss: 0.0460 - val_accuracy: 1.0000\n",
      "Epoch 5/5\n",
      "14/14 [==============================] - 3039s 217s/step - loss: 0.0505 - accuracy: 1.0000 - val_loss: 0.0231 - val_accuracy: 1.0000\n"
     ]
    }
   ],
   "source": [
    "from keras.models import Sequential\n",
    "from keras.layers import LSTM, Dense\n",
    "import numpy as np\n",
    "\n",
    "\n",
    "data_dim = 63\n",
    "timesteps = 224*224*3\n",
    "num_classes = 2\n",
    "\n",
    "model = Sequential()\n",
    "model.add(LSTM(64, return_sequences=True,\n",
    "               input_shape=(timesteps, data_dim))) \n",
    "model.add(Dropout(0.2))\n",
    "model.add(LSTM(63, return_sequences=False)) \n",
    "model.add(Dropout(0.2))\n",
    "\n",
    "model.add(Dense(63, activation='relu'))\n",
    "\n",
    "model.add(Dense(2, activation='softmax'))\n",
    "\n",
    "model.compile(loss='categorical_crossentropy',\n",
    "              optimizer='rmsprop',\n",
    "              metrics=['accuracy'])\n",
    "\n",
    "model.summary()\n",
    "\n",
    "history=model.fit(trainX, trainY,\n",
    "          batch_size=2, epochs=5,\n",
    "          validation_data=(split63, yenisplit))\n",
    "\n",
    "model.save(\"lstmModel\") \n"
   ]
  },
  {
   "cell_type": "code",
   "execution_count": 24,
   "metadata": {},
   "outputs": [
    {
     "name": "stdout",
     "output_type": "stream",
     "text": [
      "(5,)\n",
      "[0.55229215 0.3052077  0.17302255 0.23178433 0.05052638]\n",
      "(5,)\n",
      "[0.22135593 0.07534399 0.0532627  0.04598937 0.02310311]\n"
     ]
    },
    {
     "data": {
      "image/png": "[encoded data removed]",
      "text/plain": [
       "<Figure size 432x288 with 1 Axes>"
      ]
     },
     "metadata": {
      "needs_background": "light"
     },
     "output_type": "display_data"
    }
   ],
   "source": [
    "import matplotlib.pyplot as plt\n",
    "loss_train = np.array([])\n",
    "loss_val = np.array([])\n",
    "\n",
    "loss_train = np.append(loss_train, history.history['loss'])\n",
    "loss_val = np.append(loss_val, history.history['val_loss'])\n",
    "#loss_val = history.history['val_loss']\n",
    "\n",
    "\n",
    "epochs = range(1,6)\n",
    "\n",
    "print(loss_train.shape)\n",
    "print(loss_train)\n",
    "\n",
    "print(loss_val.shape)\n",
    "print(loss_val)\n",
    "\n",
    "'''loss_ingilizce.png\n",
    "plt.plot(epochs, loss_train, 'g', label='Training loss')\n",
    "plt.plot(epochs, loss_val, 'b', label='validation loss')\n",
    "plt.title('Training and Validation loss')\n",
    "plt.xlabel('Epochs')\n",
    "plt.ylabel('Loss')\n",
    "plt.legend()\n",
    "plt.show()\n",
    "'''\n",
    "\n",
    "plt.plot(epochs, loss_train, 'g', label='Eğitim Kaybı')\n",
    "plt.plot(epochs, loss_val, 'b', label='Doğrulama Kaybı')\n",
    "plt.title('Eğitim ve Doğrulama Kaybı')\n",
    "plt.xlabel('Epoch Sayısı')\n",
    "plt.ylabel('Kayıp')\n",
    "plt.legend()\n",
    "plt.show()\n",
    "\n",
    "\n",
    "\n"
   ]
  },
  {
   "cell_type": "code",
   "execution_count": 29,
   "metadata": {},
   "outputs": [
    {
     "name": "stdout",
     "output_type": "stream",
     "text": [
      "(5,)\n",
      "[0.78571427 0.85714287 0.85714287 0.9285714  1.        ]\n"
     ]
    },
    {
     "data": {
      "image/png": "[encoded data removed]",
      "text/plain": [
       "<Figure size 432x288 with 1 Axes>"
      ]
     },
     "metadata": {
      "needs_background": "light"
     },
     "output_type": "display_data"
    }
   ],
   "source": [
    "import matplotlib.pyplot as plt\n",
    "\n",
    "acc_train = np.array([])\n",
    "\n",
    "\n",
    "acc_train = np.append(acc_train, history.history['accuracy'])\n",
    "\n",
    "\n",
    "\n",
    "\n",
    "epochs = range(1,6)\n",
    "\n",
    "print(acc_train.shape)\n",
    "print(acc_train)\n",
    "\n",
    "\n",
    "\n",
    "'''\n",
    "plt.plot(epochs, acc_train, 'g', label='Eğitim Doğruluğu')\n",
    "\n",
    "plt.title('Eğitim Doğruluğu')\n",
    "plt.xlabel('Epoch Sayısı')\n",
    "plt.ylabel('Doğruluk')\n",
    "plt.legend()\n",
    "plt.show()\n",
    "'''\n",
    "\n",
    "plt.plot(epochs, acc_train, 'g', label='Train Accuracy')\n",
    "\n",
    "plt.title('Train Accuracy')\n",
    "plt.xlabel('Epochs')\n",
    "plt.ylabel('Accuracy')\n",
    "plt.legend()\n",
    "plt.show()\n",
    "\n"
   ]
  }
 ],
 "metadata": {
  "kernelspec": {
   "display_name": "Python 3",
   "language": "python",
   "name": "python3"
  },
  "language_info": {
   "codemirror_mode": {
    "name": "ipython",
    "version": 3
   },
   "file_extension": ".py",
   "mimetype": "text/x-python",
   "name": "python",
   "nbconvert_exporter": "python",
   "pygments_lexer": "ipython3",
   "version": "3.7.6"
  }
 },
 "nbformat": 4,
 "nbformat_minor": 4
}
