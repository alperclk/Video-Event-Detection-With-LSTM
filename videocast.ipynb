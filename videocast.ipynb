{
 "cells": [
  {
   "cell_type": "code",
   "execution_count": 47,
   "metadata": {},
   "outputs": [],
   "source": [
    "import cv2"
   ]
  },
  {
   "cell_type": "code",
   "execution_count": 48,
   "metadata": {},
   "outputs": [],
   "source": [
    "def videoKayit(kayitAdi, frameDizisi, fps, width, height ):\n",
    "    video_name = 'kayitlar/gol%d.mp4' %kayitAdi\n",
    "    video = cv2.VideoWriter(video_name, cv2.VideoWriter_fourcc('M','J','P','G',), fps, (width,height))\n",
    "    \n",
    "    #frameDizisi=np.reshape(frameDizisi,(-1,224*224*3))\n",
    "    for i in frameDizisi:\n",
    "        video.write(i)\n",
    "        #cv2.imshow('son',i)\n",
    "        #if cv2.waitKey(25) & 0xFF == ord('q') :\n",
    "            #break\n",
    "    \n",
    "    video.release()\n",
    "    cv2.destroyAllWindows()"
   ]
  },
  {
   "cell_type": "code",
   "execution_count": 49,
   "metadata": {},
   "outputs": [],
   "source": [
    "def videoFrameleriOku(filepath, baslangicFrameNo, bitisFrameNo):\n",
    "    frameler=[]\n",
    "    vidcap = cv2.VideoCapture(filepath)    \n",
    "    count = 0    \n",
    "    \n",
    "    while (count < baslangicFrameNo): # kontrol edilecek yere gelene kadar sadece frameleri geç\n",
    "        success,image = vidcap.read()\n",
    "        if success :\n",
    "            count += 1\n",
    "            #print(\"gec\" + str(count))\n",
    "\n",
    "\n",
    "    while (count >= baslangicFrameNo and count <= bitisFrameNo ): # oku ve frameleri diziye kaydet\n",
    "        success,image = vidcap.read()\n",
    "        if success :\n",
    "            count += 1            \n",
    "            frameler.append(image) ###\n",
    "            #print(count)\n",
    "    print( str(len(frameler)) + \" frame okundu.\")\n",
    "    \n",
    "    vidcap.release()\n",
    "    \n",
    "    \n",
    "    return frameler"
   ]
  },
  {
   "cell_type": "code",
   "execution_count": 50,
   "metadata": {},
   "outputs": [],
   "source": [
    "def hw(filepath):  #height, weight\n",
    "    vidcap = cv2.VideoCapture(filepath) \n",
    "    success,image = vidcap.read()\n",
    "    if success :\n",
    "        heightwidth = image.shape[:2]  \n",
    "        \n",
    "    vidcap.release()\n",
    "    print(\"Height: \" + str(heightwidth[0]) + \", Width: \" + str(heightwidth[1]) )\n",
    "    return heightwidth\n"
   ]
  },
  {
   "cell_type": "code",
   "execution_count": 51,
   "metadata": {},
   "outputs": [],
   "source": [
    "def videoFrameSayisi(filepath):\n",
    "    vidcap = cv2.VideoCapture(filepath) \n",
    "    frameSayisi = vidcap.get(cv2.CAP_PROP_FRAME_COUNT)\n",
    "    \n",
    "    vidcap.release()\n",
    "    print(\"Toplam\" + str(frameSayisi) + \" frame var\")\n",
    "    return frameSayisi"
   ]
  },
  {
   "cell_type": "code",
   "execution_count": 52,
   "metadata": {},
   "outputs": [],
   "source": [
    "def fps(filepath):\n",
    "    vidcap = cv2.VideoCapture(filepath) \n",
    "    fpsSayisi = vidcap.get(cv2.CAP_PROP_FPS)\n",
    "    vidcap.release()\n",
    "    print(\"Fps: \" + str(fpsSayisi) )\n",
    "    return fpsSayisi"
   ]
  },
  {
   "cell_type": "code",
   "execution_count": 57,
   "metadata": {},
   "outputs": [
    {
     "name": "stdout",
     "output_type": "stream",
     "text": [
      "Fps: 23.0\n",
      "Height: 360, Width: 640\n",
      "185 frame okundu.\n"
     ]
    }
   ],
   "source": [
    "#path=\"vid/ronaldene.mp4\"\n",
    "path=\"vid/ilhanm.mp4\"\n",
    "baslangicSaniye= 4\n",
    "bitisSaniye = 8\n",
    "kayitAdi=2\n",
    "\n",
    "fpsS = int(round(fps(path)))\n",
    "height, width = hw(path)\n",
    "\n",
    "baslangicFrameNo = baslangicSaniye*fpsS\n",
    "bitisFrameNo = bitisSaniye*fpsS\n",
    "\n",
    "\n",
    "\n",
    "videoKayit(kayitAdi, videoFrameleriOku(path, baslangicFrameNo, bitisFrameNo), fpsS, width, height )\n",
    "\n",
    "\n"
   ]
  },
  {
   "cell_type": "code",
   "execution_count": 56,
   "metadata": {},
   "outputs": [
    {
     "name": "stdout",
     "output_type": "stream",
     "text": [
      "Toplam121.0 frame var\n"
     ]
    }
   ],
   "source": [
    "\n",
    "vidcap = cv2.VideoCapture(\"vid/gol1.mp4\") \n",
    "frameSayisi = vidcap.get(cv2.CAP_PROP_FRAME_COUNT)\n",
    "\n",
    "vidcap.release()\n",
    "print(\"Toplam\" + str(frameSayisi) + \" frame var\")\n",
    "    "
   ]
  }
 ],
 "metadata": {
  "kernelspec": {
   "display_name": "Python 3",
   "language": "python",
   "name": "python3"
  },
  "language_info": {
   "codemirror_mode": {
    "name": "ipython",
    "version": 3
   },
   "file_extension": ".py",
   "mimetype": "text/x-python",
   "name": "python",
   "nbconvert_exporter": "python",
   "pygments_lexer": "ipython3",
   "version": "3.7.6"
  }
 },
 "nbformat": 4,
 "nbformat_minor": 4
}
